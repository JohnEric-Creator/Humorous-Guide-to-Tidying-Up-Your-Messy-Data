{
 "cells": [
  {
   "cell_type": "code",
   "execution_count": 1,
   "id": "3f4fd33a",
   "metadata": {},
   "outputs": [],
   "source": [
    "# Import necessary libraries\n",
    "import pandas as pd\n",
    "import numpy as np\n"
   ]
  },
  {
   "cell_type": "code",
   "execution_count": 2,
   "id": "55cedab8",
   "metadata": {},
   "outputs": [],
   "source": [
    "# Load your messy data into a pandas dataframe\n",
    "df = pd.read_csv('messy_data.csv')"
   ]
  },
  {
   "cell_type": "code",
   "execution_count": 3,
   "id": "3294fe29",
   "metadata": {},
   "outputs": [],
   "source": [
    "# Identify missing values\n",
    "missing_values = df.isnull().sum()\n"
   ]
  },
  {
   "cell_type": "code",
   "execution_count": 4,
   "id": "f42f4ea5",
   "metadata": {},
   "outputs": [],
   "source": [
    "# Identify duplicate entries\n",
    "duplicate_entries = df.duplicated().sum()"
   ]
  },
  {
   "cell_type": "code",
   "execution_count": 5,
   "id": "57365b3d",
   "metadata": {},
   "outputs": [],
   "source": [
    "# Identify inconsistent formatting\n",
    "inconsistent_formatting = df.applymap(type).nunique()\n"
   ]
  },
  {
   "cell_type": "code",
   "execution_count": 6,
   "id": "c705c73c",
   "metadata": {},
   "outputs": [],
   "source": [
    "# Identify duplicate entries\n",
    "duplicate_entries = df.duplicated().sum()\n"
   ]
  },
  {
   "cell_type": "code",
   "execution_count": 7,
   "id": "1899df82",
   "metadata": {},
   "outputs": [
    {
     "name": "stdout",
     "output_type": "stream",
     "text": [
      "Missing values:\n",
      " Index          0\n",
      "Age            7\n",
      "Salary         0\n",
      "Rating         1\n",
      "Location       0\n",
      "Established    0\n",
      "Easy Apply     0\n",
      "dtype: int64\n",
      "\n",
      "Inconsistent formatting:\n",
      " Index          1\n",
      "Age            1\n",
      "Salary         1\n",
      "Rating         1\n",
      "Location       1\n",
      "Established    1\n",
      "Easy Apply     1\n",
      "dtype: int64\n",
      "\n",
      "Duplicate entries:\n",
      " 0\n"
     ]
    }
   ],
   "source": [
    "# Print out the results\n",
    "print(\"Missing values:\\n\", missing_values)\n",
    "print(\"\\nInconsistent formatting:\\n\", inconsistent_formatting)\n",
    "print(\"\\nDuplicate entries:\\n\", duplicate_entries)"
   ]
  },
  {
   "cell_type": "markdown",
   "id": "0f75b3f0",
   "metadata": {},
   "source": [
    "Chapter 2 Code"
   ]
  },
  {
   "cell_type": "code",
   "execution_count": 8,
   "id": "eaff7146",
   "metadata": {},
   "outputs": [],
   "source": [
    "# Import necessary libraries\n",
    "import pandas as pd"
   ]
  },
  {
   "cell_type": "code",
   "execution_count": 9,
   "id": "56d3450d",
   "metadata": {},
   "outputs": [],
   "source": [
    "# Load your messy data into a pandas dataframe\n",
    "df = pd.read_csv('messy_data.csv')"
   ]
  },
  {
   "cell_type": "code",
   "execution_count": 10,
   "id": "8dee51d6",
   "metadata": {},
   "outputs": [],
   "source": [
    "# Identify which columns \"spark joy\"\n",
    "joyful_columns = ['Age', 'Salary', 'Location']"
   ]
  },
  {
   "cell_type": "code",
   "execution_count": 11,
   "id": "9d9737b1",
   "metadata": {},
   "outputs": [],
   "source": [
    "# Create a new dataframe that only includes the joyful columns\n",
    "tidy_df = df[joyful_columns]"
   ]
  },
  {
   "cell_type": "code",
   "execution_count": 12,
   "id": "f44ae0d0",
   "metadata": {},
   "outputs": [],
   "source": [
    "# Save the tidy data to a new file\n",
    "tidy_df.to_csv('tidy_data.csv', index=False)"
   ]
  },
  {
   "cell_type": "code",
   "execution_count": 13,
   "id": "bcfda4d9",
   "metadata": {},
   "outputs": [
    {
     "name": "stdout",
     "output_type": "stream",
     "text": [
      "Your data has been tidied up! Enjoy your sparkling clean dataset.\n"
     ]
    }
   ],
   "source": [
    "# Print out a message to confirm success\n",
    "print(\"Your data has been tidied up! Enjoy your sparkling clean dataset.\")"
   ]
  },
  {
   "cell_type": "markdown",
   "id": "14891479",
   "metadata": {},
   "source": [
    "This code demonstrates the idea of keeping only what \"sparks joy\" in your data. In this example, we have identified which columns we care about (name, age, and favorite_color), and created a new dataframe that only includes those columns. We then save the tidy data to a new file, and print out a message to confirm success.\n",
    "\n",
    "Of course, you'll need to adjust this code to fit your specific dataset and cleaning needs, but hopefully this gives you a good idea of how to \"tidy up\" your messy data."
   ]
  },
  {
   "cell_type": "markdown",
   "id": "8388dab3",
   "metadata": {},
   "source": [
    "Chapter 3 Code"
   ]
  },
  {
   "cell_type": "code",
   "execution_count": 14,
   "id": "82685132",
   "metadata": {},
   "outputs": [],
   "source": [
    "# Import necessary libraries\n",
    "import pandas as pd\n",
    "import numpy as np"
   ]
  },
  {
   "cell_type": "code",
   "execution_count": 15,
   "id": "a37ce438",
   "metadata": {},
   "outputs": [],
   "source": [
    "# Load your messy data into a pandas dataframe\n",
    "df = pd.read_csv('messy_data.csv')"
   ]
  },
  {
   "cell_type": "code",
   "execution_count": 17,
   "id": "0032dde7",
   "metadata": {},
   "outputs": [
    {
     "name": "stdout",
     "output_type": "stream",
     "text": [
      "Index          0\n",
      "Age            7\n",
      "Salary         0\n",
      "Rating         1\n",
      "Location       0\n",
      "Established    0\n",
      "Easy Apply     0\n",
      "dtype: int64\n"
     ]
    }
   ],
   "source": [
    "# Identify missing values\n",
    "missing_values = df.isnull().sum()\n",
    "print(missing_values)"
   ]
  },
  {
   "cell_type": "code",
   "execution_count": 19,
   "id": "16a73493",
   "metadata": {},
   "outputs": [],
   "source": [
    "# Replace missing values with mean or mode\n",
    "df['Age'] = df['Age'].fillna(df['Age'].mean())\n",
    "df['Rating'] = df['Rating'].fillna(df['Rating'].mode()[0])"
   ]
  },
  {
   "cell_type": "code",
   "execution_count": 20,
   "id": "193e747a",
   "metadata": {},
   "outputs": [
    {
     "name": "stdout",
     "output_type": "stream",
     "text": [
      "Index          0\n",
      "Age            0\n",
      "Salary         0\n",
      "Rating         0\n",
      "Location       0\n",
      "Established    0\n",
      "Easy Apply     0\n",
      "dtype: int64\n"
     ]
    }
   ],
   "source": [
    "# Identify there are no mlonger missing values\n",
    "missing_values = df.isnull().sum()\n",
    "print(missing_values)"
   ]
  },
  {
   "cell_type": "code",
   "execution_count": 21,
   "id": "370457f1",
   "metadata": {},
   "outputs": [],
   "source": [
    "# Save the tidy data to a new file\n",
    "df.to_csv('tidy_data.csv', index=False)"
   ]
  },
  {
   "cell_type": "code",
   "execution_count": 22,
   "id": "52ffb2fa",
   "metadata": {},
   "outputs": [
    {
     "name": "stdout",
     "output_type": "stream",
     "text": [
      "Your data has been tidied up! Missing values have been handled.\n"
     ]
    }
   ],
   "source": [
    "# Print out a message to confirm success\n",
    "print(\"Your data has been tidied up! Missing values have been handled.\")"
   ]
  },
  {
   "cell_type": "markdown",
   "id": "2174b030",
   "metadata": {},
   "source": [
    "This code demonstrates two common strategies for handling missing values: replacing them with the mean or mode of the non-missing values, or dropping the entire row if it contains any missing values. In this example, we replace the missing age values with the mean age, and replace the missing favorite color values with the mode (most common) favorite color. We then drop any rows that still contain missing values, save the tidy data to a new file, and print out a message to confirm success.\n",
    "\n",
    "Again, you'll need to adjust this code to fit your specific dataset and cleaning needs, but this should give you a good starting point for handling missing values in your data."
   ]
  },
  {
   "cell_type": "markdown",
   "id": "42a129b1",
   "metadata": {},
   "source": [
    "Chapter 4"
   ]
  },
  {
   "cell_type": "markdown",
   "id": "2734dc32",
   "metadata": {},
   "source": [
    "Here's some Python code that demonstrates how to deal with duplicates in your data, as discussed in Chapter 4:"
   ]
  },
  {
   "cell_type": "code",
   "execution_count": 23,
   "id": "eec5fbb7",
   "metadata": {},
   "outputs": [],
   "source": [
    "# Import necessary libraries\n",
    "import pandas as pd"
   ]
  },
  {
   "cell_type": "code",
   "execution_count": 24,
   "id": "484acabe",
   "metadata": {},
   "outputs": [],
   "source": [
    "# Load your messy data into a pandas dataframe\n",
    "df = pd.read_csv('messy_data.csv')\n"
   ]
  },
  {
   "cell_type": "code",
   "execution_count": 25,
   "id": "95b17dcc",
   "metadata": {},
   "outputs": [],
   "source": [
    "# Identify duplicate entries\n",
    "duplicates = df.duplicated()"
   ]
  },
  {
   "cell_type": "code",
   "execution_count": 26,
   "id": "0bf0b565",
   "metadata": {},
   "outputs": [],
   "source": [
    "# Drop duplicate entries\n",
    "df = df.drop_duplicates()"
   ]
  },
  {
   "cell_type": "code",
   "execution_count": 27,
   "id": "6184f913",
   "metadata": {},
   "outputs": [],
   "source": [
    "# Save the tidy data to a new file\n",
    "df.to_csv('tidy_data.csv', index=False)"
   ]
  },
  {
   "cell_type": "code",
   "execution_count": 28,
   "id": "b284477f",
   "metadata": {},
   "outputs": [
    {
     "name": "stdout",
     "output_type": "stream",
     "text": [
      "Your data has been tidied up! Duplicate entries have been removed.\n"
     ]
    }
   ],
   "source": [
    "# Print out a message to confirm success\n",
    "print(\"Your data has been tidied up! Duplicate entries have been removed.\")"
   ]
  },
  {
   "cell_type": "markdown",
   "id": "e24c4ea2",
   "metadata": {},
   "source": [
    "This code identifies any duplicate entries in your data using the duplicated() function, and then drops those duplicate entries using the drop_duplicates() function. We then save the tidy data to a new file, and print out a message to confirm success.\n",
    "\n",
    "Of course, you'll need to adjust this code to fit your specific dataset and cleaning needs, but this should give you a good starting point for dealing with duplicates in your data."
   ]
  },
  {
   "cell_type": "markdown",
   "id": "a17b5c42",
   "metadata": {},
   "source": [
    " Bonus code:\n",
    " That demonstrates how to handle outliers in your data, as discussed in (hidden) Chapter 5:"
   ]
  },
  {
   "cell_type": "code",
   "execution_count": 29,
   "id": "7ebdaec3",
   "metadata": {},
   "outputs": [],
   "source": [
    "# Import necessary libraries\n",
    "import pandas as pd\n",
    "import numpy as np\n",
    "from scipy import stats"
   ]
  },
  {
   "cell_type": "code",
   "execution_count": 30,
   "id": "76c558c2",
   "metadata": {},
   "outputs": [],
   "source": [
    "# Load your messy data into a pandas dataframe\n",
    "df = pd.read_csv('messy_data.csv')"
   ]
  },
  {
   "cell_type": "code",
   "execution_count": 32,
   "id": "c05fdd58",
   "metadata": {},
   "outputs": [],
   "source": [
    "# Identify outliers in the age column using z-scores\n",
    "z_scores = np.abs(stats.zscore(df['Age']))\n",
    "outliers = (z_scores > 3)"
   ]
  },
  {
   "cell_type": "code",
   "execution_count": 33,
   "id": "4e68367a",
   "metadata": {},
   "outputs": [],
   "source": [
    "# Replace outliers with the median age\n",
    "df.loc[outliers, 'Age'] = df['Age'].median()"
   ]
  },
  {
   "cell_type": "code",
   "execution_count": 34,
   "id": "2cb6935c",
   "metadata": {},
   "outputs": [],
   "source": [
    "# Save the tidy data to a new file\n",
    "df.to_csv('tidy_data.csv', index=False)"
   ]
  },
  {
   "cell_type": "code",
   "execution_count": 35,
   "id": "77950594",
   "metadata": {},
   "outputs": [
    {
     "name": "stdout",
     "output_type": "stream",
     "text": [
      "Your data has been tidied up! Outliers in the age column have been handled.\n"
     ]
    }
   ],
   "source": [
    "# Print out a message to confirm success\n",
    "print(\"Your data has been tidied up! Outliers in the age column have been handled.\")"
   ]
  },
  {
   "cell_type": "markdown",
   "id": "016f98dc",
   "metadata": {},
   "source": [
    "This code identifies outliers in the age column of your data using z-scores, and replaces those outliers with the median age using the loc function. We then save the tidy data to a new file, and print out a message to confirm success.\n",
    "\n",
    "Again, you'll need to adjust this code to fit your specific dataset and cleaning needs, but this should give you a good starting point for handling outliers in your data.\n"
   ]
  },
  {
   "cell_type": "code",
   "execution_count": null,
   "id": "8a66b54f",
   "metadata": {},
   "outputs": [],
   "source": []
  }
 ],
 "metadata": {
  "kernelspec": {
   "display_name": "Python 3 (ipykernel)",
   "language": "python",
   "name": "python3"
  },
  "language_info": {
   "codemirror_mode": {
    "name": "ipython",
    "version": 3
   },
   "file_extension": ".py",
   "mimetype": "text/x-python",
   "name": "python",
   "nbconvert_exporter": "python",
   "pygments_lexer": "ipython3",
   "version": "3.8.8"
  },
  "toc": {
   "base_numbering": 1,
   "nav_menu": {},
   "number_sections": true,
   "sideBar": true,
   "skip_h1_title": false,
   "title_cell": "Table of Contents",
   "title_sidebar": "Contents",
   "toc_cell": false,
   "toc_position": {},
   "toc_section_display": true,
   "toc_window_display": false
  }
 },
 "nbformat": 4,
 "nbformat_minor": 5
}
